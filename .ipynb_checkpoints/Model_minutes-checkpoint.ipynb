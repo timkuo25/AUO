{
 "cells": [
  {
   "cell_type": "code",
   "execution_count": 13,
   "id": "4e5f2b55",
   "metadata": {},
   "outputs": [],
   "source": [
    "from gurobipy import*\n",
    "m = Model(\"research\")"
   ]
  },
  {
   "cell_type": "markdown",
   "id": "93e085fe",
   "metadata": {},
   "source": [
    "# Parameter"
   ]
  },
  {
   "cell_type": "code",
   "execution_count": 14,
   "id": "cb1f7623",
   "metadata": {},
   "outputs": [
    {
     "ename": "NameError",
     "evalue": "name 'file' is not defined",
     "output_type": "error",
     "traceback": [
      "\u001b[0;31m---------------------------------------------------------------------------\u001b[0m",
      "\u001b[0;31mNameError\u001b[0m                                 Traceback (most recent call last)",
      "\u001b[0;32m<ipython-input-14-ec7682f32acc>\u001b[0m in \u001b[0;36m<module>\u001b[0;34m\u001b[0m\n\u001b[1;32m      1\u001b[0m \u001b[0;31m#file = 'benchmark_new_1'\u001b[0m\u001b[0;34m\u001b[0m\u001b[0;34m\u001b[0m\u001b[0;34m\u001b[0m\u001b[0m\n\u001b[0;32m----> 2\u001b[0;31m \u001b[0mpath\u001b[0m \u001b[0;34m=\u001b[0m \u001b[0;34m'testdata_0805_final_2/benchmark_new/%s.txt'\u001b[0m \u001b[0;34m%\u001b[0m \u001b[0;34m(\u001b[0m\u001b[0mfile\u001b[0m\u001b[0;34m)\u001b[0m\u001b[0;34m\u001b[0m\u001b[0;34m\u001b[0m\u001b[0m\n\u001b[0m\u001b[1;32m      3\u001b[0m \u001b[0;34m\u001b[0m\u001b[0m\n\u001b[1;32m      4\u001b[0m \u001b[0;32mwith\u001b[0m \u001b[0mopen\u001b[0m\u001b[0;34m(\u001b[0m\u001b[0mpath\u001b[0m\u001b[0;34m)\u001b[0m \u001b[0;32mas\u001b[0m \u001b[0ma\u001b[0m\u001b[0;34m:\u001b[0m\u001b[0;34m\u001b[0m\u001b[0;34m\u001b[0m\u001b[0m\n\u001b[1;32m      5\u001b[0m     \u001b[0mcol\u001b[0m \u001b[0;34m=\u001b[0m \u001b[0mlen\u001b[0m\u001b[0;34m(\u001b[0m\u001b[0ma\u001b[0m\u001b[0;34m.\u001b[0m\u001b[0mreadlines\u001b[0m\u001b[0;34m(\u001b[0m\u001b[0;34m)\u001b[0m\u001b[0;34m)\u001b[0m\u001b[0;34m\u001b[0m\u001b[0;34m\u001b[0m\u001b[0m\n",
      "\u001b[0;31mNameError\u001b[0m: name 'file' is not defined"
     ]
    }
   ],
   "source": [
    "#file = 'benchmark_new_1'\n",
    "path = 'testdata_0805_final_2/benchmark_new/%s.txt' % (file) \n",
    "\n",
    "with open(path) as a:\n",
    "    col = len(a.readlines())\n",
    "a.close()\n",
    "l = [0]*col\n",
    "c = 0\n",
    "with open(path) as f:\n",
    "    for line in f.readlines():\n",
    "        l[c] = line.split(' ')\n",
    "        c = c + 1\n",
    "f.close()        \n",
    "ma = int(l[0][0]) # numbers of machines\n",
    "h = int(l[0][1]) # #of machines that can be maintained at the same time\n",
    "b = int(l[0][2]) # maintenance time\n",
    "\n",
    "n = [0]\n",
    "for i in range(ma):\n",
    "    n.append(int(l[1][i]))\n",
    "\n",
    "rB = [0] # defect rate \"before\" maintenance\n",
    "rB.append(float(l[2][1]))\n",
    "rB.append(float(l[2][2]))\n",
    "rA = [0] # defect rate \"after\" maintenance\n",
    "rA.append(float(l[3][1]))\n",
    "rA.append(float(l[3][2]))\n",
    "\n",
    "s = [[0] for i in range(3)] # starting time\n",
    "p = [[0] for i in range(3)] # processing time\n",
    "d = [[0] for i in range(3)] # due date\n",
    "\n",
    "for count in range(1,ma+1):\n",
    "    for i in range(4,len(l)):\n",
    "        if int(l[i][0]) == count:\n",
    "            for j in range(len(l[i][0])):\n",
    "                s[count].append(int(l[i][2]))\n",
    "                p[count].append(int(l[i][3]))\n",
    "                d[count].append(int(l[i][4]))            \n",
    "\n",
    "T = 500"
   ]
  },
  {
   "cell_type": "markdown",
   "id": "8692536e",
   "metadata": {},
   "source": [
    "# Decision Variables"
   ]
  },
  {
   "cell_type": "code",
   "execution_count": null,
   "id": "d4d20b2a",
   "metadata": {},
   "outputs": [],
   "source": [
    "X = {}\n",
    "Y = {}\n",
    "W = {}\n",
    "Z = {}\n",
    "A = {}\n",
    "\n",
    "for i in range(1,ma+1): \n",
    "    for j in range(n[i]+1):\n",
    "        X[i,j] = m.addVar(vtype=\"B\",name = \"X(%s,%s)\"%(i,j))\n",
    "for i in range(1,ma+1):\n",
    "    for j in range(n[i]+1):\n",
    "        Y[i,j] = m.addVar(vtype=\"B\",name = \"Y(%s,%s)\"%(i,j))\n",
    "for i in range(1,ma+1):\n",
    "    for j in range(n[i]+1):\n",
    "        W[i,j] = m.addVar(vtype=\"I\",name = \"W(%s,%s)\"%(i,j))\n",
    "for i in range(1,ma+1):\n",
    "    for j in range(n[i]+1):\n",
    "        Z[i,j] = m.addVar(vtype=\"I\",name = \"Z(%s,%s)\"%(i,j))\n",
    "for i in range(1,ma+1):\n",
    "    for j in range(n[i]+1):\n",
    "        for t in range(T):\n",
    "            A[i,j,t] = m.addVar(vtype=\"B\",name = \"A(%s,%s,%s)\"%(i,j,t))\n",
    "m.update()"
   ]
  },
  {
   "cell_type": "markdown",
   "id": "72458010",
   "metadata": {},
   "source": [
    "# Constraints"
   ]
  },
  {
   "cell_type": "code",
   "execution_count": null,
   "id": "3515ea61",
   "metadata": {},
   "outputs": [],
   "source": [
    "m.addConstr(X[1,0]==0)\n",
    "m.addConstr(X[2,0]==0)\n",
    "\n",
    "for (i,j) in X:\n",
    "    if j != 0:\n",
    "        m.addConstr(Y[i,j] >= X[i,j])\n",
    "    \n",
    "for i in range(1, ma + 1): # There is at most one maintenance on the machine i\n",
    "    m.addConstr(quicksum(X[i,j] for j in range(n[i] + 1)) <= 1)\n",
    "    \n",
    "for (i,j) in Y:\n",
    "    m.addConstr(Y[i,j] <= quicksum(X[i,k] for k in range(1,j+1)))\n",
    "\n",
    "for (i,j) in Z:\n",
    "    m.addConstr(Z[i,j] >= s[i][j] + p[i][j] + W[i,j] - d[i][j])\n",
    "\n",
    "for (i,j) in W:\n",
    "    m.addConstr(W[i,j] >= b * quicksum(X[i,k] for k in range(1,j+1)) - quicksum(Y[i,k] * (s[i][k]-s[i][k-1] - p[i][k-1]) for k in range(1,j+1)))\n",
    "                \n",
    "for t in range(T):\n",
    "    m.addConstr(quicksum(quicksum(A[i,j,t] * X[i,j] for j in range(n[i]+1)) for i in range(1,ma+1)) <= h)\n",
    "\n",
    "for (i,j) in X:\n",
    "    for t in range(T):\n",
    "        if t in range(s[i][j] + p[i][j] + 1, s[i][j] + p[i][j]+ b +1):\n",
    "            m.addConstr(A[i,j,t] == 1)\n",
    "        else:\n",
    "            m.addConstr(A[i,j,t] == 0)\n",
    "\n",
    "m.update()    "
   ]
  },
  {
   "cell_type": "markdown",
   "id": "66f43688",
   "metadata": {},
   "source": [
    "# Objective"
   ]
  },
  {
   "cell_type": "code",
   "execution_count": null,
   "id": "5b3af5b2",
   "metadata": {},
   "outputs": [],
   "source": [
    "m.setObjective(100*quicksum(p[i][j] * ((rA[i] * Y[i,j]) + rB[i] * (1 - Y[i,j])) for (i,j) in Y)\n",
    "               + quicksum(Z[i,j] for (i,j) in Z),GRB.MINIMIZE)\n",
    "m.optimize()\n",
    "m.write('model1.sol')"
   ]
  },
  {
   "cell_type": "markdown",
   "id": "ab68b151",
   "metadata": {},
   "source": [
    "# Output"
   ]
  },
  {
   "cell_type": "code",
   "execution_count": null,
   "id": "14aae430",
   "metadata": {},
   "outputs": [],
   "source": [
    "print(\"Optimal value:\", m.ObjVal)\n",
    "#m.printAttr('X')"
   ]
  },
  {
   "cell_type": "code",
   "execution_count": null,
   "id": "d611ad2a",
   "metadata": {},
   "outputs": [],
   "source": [
    "with open(\"model1.sol\",'r') as e:\n",
    "    col = len(e.readlines())\n",
    "e.close()\n",
    "\n",
    "ll = [0]*col\n",
    "c = 0\n",
    "with open(\"model1.sol\",'r') as v:\n",
    "    for line in v.readlines():\n",
    "        ll[c] = line.split(' ')\n",
    "        c = c + 1\n",
    "v.close()\n",
    "    \n",
    "with open(\"1\",'w') as vv:\n",
    "    vv.write('%s,%s\\n' % (ma,T))\n",
    "    for i in range(1,ma+1):\n",
    "        vv.write('%s '%n[i])\n",
    "    vv.write('\\n')\n",
    "    for i in range(2,col):\n",
    "        vv.write('%s,%s' % (ll[i][0],ll[i][1]))\n",
    "    \n",
    "vv.close()\n",
    "\n",
    "data = data2 = \"\"\n",
    "  \n",
    "# Reading data from file1\n",
    "with open(path) as o:\n",
    "    data2 = o.read()\n",
    "o.close()\n",
    "# Reading data from file2\n",
    "with open(\"1\") as z:\n",
    "    data = z.read()\n",
    "z.close()\n",
    "\n",
    "data += data2\n",
    "\n",
    "with open (paths + '/' + file + \"_sol.txt\", \"w\") as fp:\n",
    "    fp.write(data)\n",
    "fp.close()\n",
    "\n",
    "os.remove(\"1\")\n",
    "os.remove(\"model1.sol\")"
   ]
  },
  {
   "cell_type": "code",
   "execution_count": null,
   "id": "11e20ef4",
   "metadata": {},
   "outputs": [],
   "source": []
  },
  {
   "cell_type": "code",
   "execution_count": null,
   "id": "748988dd",
   "metadata": {},
   "outputs": [],
   "source": []
  }
 ],
 "metadata": {
  "kernelspec": {
   "display_name": "Python 3",
   "language": "python",
   "name": "python3"
  },
  "language_info": {
   "codemirror_mode": {
    "name": "ipython",
    "version": 3
   },
   "file_extension": ".py",
   "mimetype": "text/x-python",
   "name": "python",
   "nbconvert_exporter": "python",
   "pygments_lexer": "ipython3",
   "version": "3.8.10"
  }
 },
 "nbformat": 4,
 "nbformat_minor": 5
}
