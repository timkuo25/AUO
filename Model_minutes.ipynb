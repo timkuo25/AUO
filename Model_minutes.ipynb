{
 "cells": [
  {
   "cell_type": "code",
   "execution_count": 484,
   "id": "4e5f2b55",
   "metadata": {},
   "outputs": [],
   "source": [
    "from gurobipy import*\n",
    "m = Model(\"research\")"
   ]
  },
  {
   "cell_type": "markdown",
   "id": "7b80006d",
   "metadata": {},
   "source": [
    "# Parameter"
   ]
  },
  {
   "cell_type": "code",
   "execution_count": 485,
   "id": "cb1f7623",
   "metadata": {},
   "outputs": [],
   "source": [
    "\n",
    "#file = 'benchmark_new_1'\n",
    "path = 'AUO/testdata_0805_final_2/benchmark_new/%s.txt' % (file) \n",
    "\n",
    "with open(path) as a:\n",
    "    col = len(a.readlines())\n",
    "a.close()\n",
    "l = [0]*col\n",
    "c = 0\n",
    "with open(path) as f:\n",
    "    for line in f.readlines():\n",
    "        l[c] = line.split(' ')\n",
    "        c = c + 1\n",
    "f.close()        \n",
    "ma = int(l[0][0]) # numbers of machines\n",
    "h = int(l[0][1]) # #of machines that can be maintained at the same time\n",
    "b = int(l[0][2]) # maintenance time\n",
    "\n",
    "n = [0]\n",
    "for i in range(ma):\n",
    "    n.append(int(l[1][i]))\n",
    "\n",
    "rB = [0] # defect rate \"before\" maintenance\n",
    "rB.append(float(l[2][1]))\n",
    "rB.append(float(l[2][2]))\n",
    "rA = [0] # defect rate \"after\" maintenance\n",
    "rA.append(float(l[3][1]))\n",
    "rA.append(float(l[3][2]))\n",
    "\n",
    "s = [[0] for i in range(3)] # starting time\n",
    "p = [[0] for i in range(3)] # processing time\n",
    "d = [[0] for i in range(3)] # due date\n",
    "\n",
    "for count in range(1,ma+1):\n",
    "    for i in range(4,len(l)):\n",
    "        if int(l[i][0]) == count:\n",
    "            for j in range(len(l[i][0])):\n",
    "                s[count].append(int(l[i][2]))\n",
    "                p[count].append(int(l[i][3]))\n",
    "                d[count].append(int(l[i][4]))            \n",
    "\n",
    "T = 500"
   ]
  },
  {
   "cell_type": "markdown",
   "id": "541218f5",
   "metadata": {},
   "source": [
    "# Decision Variables"
   ]
  },
  {
   "cell_type": "code",
   "execution_count": 486,
   "id": "d4d20b2a",
   "metadata": {},
   "outputs": [],
   "source": [
    "X = {}\n",
    "Y = {}\n",
    "W = {}\n",
    "Z = {}\n",
    "A = {}\n",
    "\n",
    "for i in range(1,ma+1): \n",
    "    for j in range(n[i]+1):\n",
    "        X[i,j] = m.addVar(vtype=\"B\",name = \"X(%s,%s)\"%(i,j))\n",
    "for i in range(1,ma+1):\n",
    "    for j in range(n[i]+1):\n",
    "        Y[i,j] = m.addVar(vtype=\"B\",name = \"Y(%s,%s)\"%(i,j))\n",
    "for i in range(1,ma+1):\n",
    "    for j in range(n[i]+1):\n",
    "        W[i,j] = m.addVar(vtype=\"I\",name = \"W(%s,%s)\"%(i,j))\n",
    "for i in range(1,ma+1):\n",
    "    for j in range(n[i]+1):\n",
    "        Z[i,j] = m.addVar(vtype=\"I\",name = \"Z(%s,%s)\"%(i,j))\n",
    "for i in range(1,ma+1):\n",
    "    for j in range(n[i]+1):\n",
    "        for t in range(T):\n",
    "            A[i,j,t] = m.addVar(vtype=\"B\",name = \"A(%s,%s,%s)\"%(i,j,t))\n",
    "m.update()"
   ]
  },
  {
   "cell_type": "markdown",
   "id": "c8f0d739",
   "metadata": {},
   "source": [
    "# Constraints"
   ]
  },
  {
   "cell_type": "code",
   "execution_count": 487,
   "id": "3515ea61",
   "metadata": {},
   "outputs": [],
   "source": [
    "m.addConstr(X[1,0]==0)\n",
    "m.addConstr(X[2,0]==0)\n",
    "\n",
    "for (i,j) in X:\n",
    "    if j != 0:\n",
    "        m.addConstr(Y[i,j] >= X[i,j])\n",
    "    \n",
    "for i in range(1, ma + 1): # There is at most one maintenance on the machine i\n",
    "    m.addConstr(quicksum(X[i,j] for j in range(n[i] + 1)) <= 1)\n",
    "    \n",
    "for (i,j) in Y:\n",
    "    m.addConstr(Y[i,j] <= quicksum(X[i,k] for k in range(1,j+1)))\n",
    "\n",
    "for (i,j) in Z:\n",
    "    m.addConstr(Z[i,j] >= s[i][j] + p[i][j] + W[i,j] - d[i][j])\n",
    "\n",
    "for (i,j) in W:\n",
    "    m.addConstr(W[i,j] >= b * quicksum(X[i,k] for k in range(1,j+1)) - quicksum(Y[i,k] * (s[i][k]-s[i][k-1] - p[i][k-1]) for k in range(1,j+1)))\n",
    "                \n",
    "for t in range(T):\n",
    "    m.addConstr(quicksum(quicksum(A[i,j,t] * X[i,j] for j in range(n[i]+1)) for i in range(1,ma+1)) <= h)\n",
    "\n",
    "for (i,j) in X:\n",
    "    for t in range(T):\n",
    "        if t in range(s[i][j] + p[i][j] + 1, s[i][j] + p[i][j]+ b +1):\n",
    "            m.addConstr(A[i,j,t] == 1)\n",
    "        else:\n",
    "            m.addConstr(A[i,j,t] == 0)\n",
    "\n",
    "m.update()    "
   ]
  },
  {
   "cell_type": "markdown",
   "id": "0193ec6b",
   "metadata": {},
   "source": [
    "# Objective"
   ]
  },
  {
   "cell_type": "code",
   "execution_count": 488,
   "id": "5b3af5b2",
   "metadata": {},
   "outputs": [
    {
     "name": "stdout",
     "output_type": "stream",
     "text": [
      "Gurobi Optimizer version 9.1.2 build v9.1.2rc0 (mac64)\n",
      "Thread count: 8 physical cores, 8 logical processors, using up to 8 threads\n",
      "Optimize a model with 8570 rows, 8568 columns and 8789 nonzeros\n",
      "Model fingerprint: 0xe5d578f2\n",
      "Model has 500 quadratic constraints\n",
      "Variable types: 0 continuous, 8568 integer (8534 binary)\n",
      "Coefficient statistics:\n",
      "  Matrix range     [1e+00, 6e+01]\n",
      "  QMatrix range    [1e+00, 1e+00]\n",
      "  Objective range  [1e+00, 9e+01]\n",
      "  Bounds range     [1e+00, 1e+00]\n",
      "  RHS range        [1e+00, 2e+01]\n",
      "  QRHS range       [1e+00, 1e+00]\n",
      "Presolve removed 8532 rows and 8534 columns\n",
      "Presolve time: 0.01s\n",
      "Presolved: 38 rows, 34 columns, 181 nonzeros\n",
      "Variable types: 0 continuous, 34 integer (24 binary)\n",
      "Found heuristic solution: objective 10029.000000\n",
      "Found heuristic solution: objective 10010.000000\n",
      "Found heuristic solution: objective 9782.0000000\n",
      "\n",
      "Root relaxation: cutoff, 8 iterations, 0.00 seconds\n",
      "\n",
      "    Nodes    |    Current Node    |     Objective Bounds      |     Work\n",
      " Expl Unexpl |  Obj  Depth IntInf | Incumbent    BestBd   Gap | It/Node Time\n",
      "\n",
      "     0     0     cutoff    0      9782.00000 9782.00000  0.00%     -    0s\n",
      "\n",
      "Explored 0 nodes (8 simplex iterations) in 0.02 seconds\n",
      "Thread count was 8 (of 8 available processors)\n",
      "\n",
      "Solution count 3: 9782 10010 10029 \n",
      "\n",
      "Optimal solution found (tolerance 1.00e-04)\n",
      "Best objective 9.782000000000e+03, best bound 9.782000000000e+03, gap 0.0000%\n",
      "Warning: Q constraint 0 doesn't have a name\n"
     ]
    }
   ],
   "source": [
    "m.setObjective(100*quicksum(p[i][j] * ((rA[i] * Y[i,j]) + rB[i] * (1 - Y[i,j])) for (i,j) in Y)\n",
    "               + quicksum(Z[i,j] for (i,j) in Z),GRB.MINIMIZE)\n",
    "m.optimize()\n",
    "m.write('model1.lp')\n",
    "m.write('model1.sol')"
   ]
  },
  {
   "cell_type": "markdown",
   "id": "96257eb8",
   "metadata": {},
   "source": [
    "# Output"
   ]
  },
  {
   "cell_type": "code",
   "execution_count": 489,
   "id": "14aae430",
   "metadata": {},
   "outputs": [
    {
     "name": "stdout",
     "output_type": "stream",
     "text": [
      "Optimal value: 9781.999999999998\n"
     ]
    }
   ],
   "source": [
    "print(\"Optimal value:\", m.ObjVal)\n",
    "#m.printAttr('X')"
   ]
  },
  {
   "cell_type": "code",
   "execution_count": 490,
   "id": "d611ad2a",
   "metadata": {},
   "outputs": [],
   "source": [
    "with open(\"model1.sol\",'r') as e:\n",
    "    col = len(e.readlines())\n",
    "e.close()\n",
    "\n",
    "ll = [0]*col\n",
    "c = 0\n",
    "with open(\"model1.sol\",'r') as v:\n",
    "    for line in v.readlines():\n",
    "        ll[c] = line.split(' ')\n",
    "        c = c + 1\n",
    "v.close()\n",
    "    \n",
    "with open(\"1\",'w') as vv:\n",
    "    vv.write('%s,%s\\n' % (ma,T))\n",
    "    for i in range(1,ma+1):\n",
    "        vv.write('%s '%n[i])\n",
    "    vv.write('\\n')\n",
    "    for i in range(2,col):\n",
    "        vv.write('%s,%s' % (ll[i][0],ll[i][1]))\n",
    "    \n",
    "vv.close()\n",
    "\n",
    "data = data2 = \"\"\n",
    "  \n",
    "# Reading data from file1\n",
    "with open(path) as o:\n",
    "    data2 = o.read()\n",
    "o.close()\n",
    "# Reading data from file2\n",
    "with open(\"1\") as z:\n",
    "    data = z.read()\n",
    "z.close()\n",
    "\n",
    "data += data2\n",
    "  \n",
    "with open (\"%s_sol.txt\"%file, 'w') as fp:\n",
    "    fp.write(data)\n",
    "fp.close()\n"
   ]
  },
  {
   "cell_type": "code",
   "execution_count": null,
   "id": "e23e661d",
   "metadata": {},
   "outputs": [],
   "source": []
  }
 ],
 "metadata": {
  "kernelspec": {
   "display_name": "Python 3",
   "language": "python",
   "name": "python3"
  },
  "language_info": {
   "codemirror_mode": {
    "name": "ipython",
    "version": 3
   },
   "file_extension": ".py",
   "mimetype": "text/x-python",
   "name": "python",
   "nbconvert_exporter": "python",
   "pygments_lexer": "ipython3",
   "version": "3.8.10"
  }
 },
 "nbformat": 4,
 "nbformat_minor": 5
}
